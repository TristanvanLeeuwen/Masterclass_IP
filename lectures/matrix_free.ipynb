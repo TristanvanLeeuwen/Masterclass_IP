{
 "cells": [
  {
   "cell_type": "markdown",
   "metadata": {
    "slideshow": {
     "slide_type": "slide"
    }
   },
   "source": [
    "# Beyond explicit matrix representations"
   ]
  },
  {
   "cell_type": "markdown",
   "metadata": {
    "slideshow": {
     "slide_type": "slide"
    }
   },
   "source": [
    "# Overview\n",
    "\n",
    "* Abstract linear operators in Python\n",
    "* Some example with PyLops"
   ]
  },
  {
   "cell_type": "markdown",
   "metadata": {
    "slideshow": {
     "slide_type": "slide"
    }
   },
   "source": [
    "# Abstract linear operators in Python"
   ]
  },
  {
   "cell_type": "markdown",
   "metadata": {
    "slideshow": {
     "slide_type": "subslide"
    }
   },
   "source": [
    "* So far, we have explicitly represented linear operators as a matrix\n",
    "* For many algorithms we only need to be able to apply the operator and its adjoint to given input vectors"
   ]
  },
  {
   "cell_type": "markdown",
   "metadata": {
    "slideshow": {
     "slide_type": "subslide"
    }
   },
   "source": [
    "Convolution\n",
    "\n",
    "$$f(x) = \\int u(y) k(x - y) \\mathrm{d}y.$$\n",
    "\n",
    "can be efficiently implemented using FFT"
   ]
  },
  {
   "cell_type": "code",
   "execution_count": 1,
   "metadata": {
    "slideshow": {
     "slide_type": "subslide"
    }
   },
   "outputs": [],
   "source": [
    "#!pip install pylops\n",
    "\n",
    "import matplotlib.pyplot as plt\n",
    "import numpy as np\n",
    "import pylops\n",
    "\n",
    "s = .05\n",
    "k = lambda x: np.exp(-0.5*((x-.5)/s)**2)/(n*s*np.sqrt(2*np.pi))\n",
    "\n",
    "n = 1000\n",
    "x = np.linspace(0,1,n)\n",
    "\n",
    "K = pylops.signalprocessing.Convolve1D(n, h=k(x), offset=n//2)\n",
    "\n",
    "u = np.heaviside(x-.3,0) - np.heaviside(x-.6,0)\n",
    "f = K*u"
   ]
  },
  {
   "cell_type": "code",
   "execution_count": 2,
   "metadata": {
    "slideshow": {
     "slide_type": "subslide"
    }
   },
   "outputs": [
    {
     "data": {
      "text/plain": [
       "Text(0.5, 0, '$x$')"
      ]
     },
     "execution_count": 2,
     "metadata": {},
     "output_type": "execute_result"
    },
    {
     "data": {
      "image/png": "[encoded data removed]",
      "text/plain": [
       "<Figure size 432x288 with 1 Axes>"
      ]
     },
     "metadata": {
      "needs_background": "light"
     },
     "output_type": "display_data"
    }
   ],
   "source": [
    "plt.plot(x,u,x,f)\n",
    "plt.xlabel(r'$x$')"
   ]
  },
  {
   "cell_type": "markdown",
   "metadata": {
    "slideshow": {
     "slide_type": "slide"
    }
   },
   "source": [
    "# An example with PyLops"
   ]
  },
  {
   "cell_type": "markdown",
   "metadata": {
    "slideshow": {
     "slide_type": "subslide"
    }
   },
   "source": [
    "## Image deblurring\n",
    "\n",
    "Deconvolution by least-squares:\n",
    "\n",
    "$$\\min_u \\|Ku - f\\|_2^2.$$"
   ]
  },
  {
   "cell_type": "code",
   "execution_count": 7,
   "metadata": {
    "slideshow": {
     "slide_type": "subslide"
    }
   },
   "outputs": [],
   "source": [
    "import matplotlib.pyplot as plt\n",
    "import numpy as np\n",
    "from scipy.sparse.linalg import lsqr\n",
    "import pylops\n",
    "\n",
    "sigma = 1e-16\n",
    "\n",
    "s = .05\n",
    "k = lambda x,y : np.exp(-0.5*((x-.5)**2+(y-.5)**2)/s**2)/(2*np.pi*(s*n)**2)\n",
    "\n",
    "n = 32\n",
    "x = np.linspace(0,1,n)\n",
    "y = np.linspace(0,1,n)\n",
    "xx, yy = np.meshgrid(x,y)\n",
    "\n",
    "K = pylops.signalprocessing.Convolve2D(n*n, h=k(xx,yy), dims=(n,n),offset=(n // 2, n // 2))\n",
    "u = ((np.heaviside(xx-.3,0) - np.heaviside(xx-.6,0))*(np.heaviside(yy-.3,0) - np.heaviside(yy-.6,0))).ravel()\n",
    "f = K*u + sigma*np.random.randn(n**2)\n",
    "\n",
    "uh = lsqr(K,f)[0]"
   ]
  },
  {
   "cell_type": "code",
   "execution_count": 8,
   "metadata": {
    "slideshow": {
     "slide_type": "subslide"
    }
   },
   "outputs": [
    {
     "data": {
      "image/png": "[encoded data removed]",
      "text/plain": [
       "<Figure size 432x288 with 3 Axes>"
      ]
     },
     "metadata": {
      "needs_background": "light"
     },
     "output_type": "display_data"
    }
   ],
   "source": [
    "fig, ax = plt.subplots(1,3)\n",
    "ax[0].imshow(u.reshape((n,n)))\n",
    "ax[1].imshow(f.reshape((n,n)))\n",
    "ax[2].imshow(uh.reshape((n,n)))\n",
    "\n",
    "plt.tight_layout()"
   ]
  },
  {
   "cell_type": "markdown",
   "metadata": {
    "slideshow": {
     "slide_type": "subslide"
    }
   },
   "source": [
    "## Tikhonov-regularised least-squares\n",
    "\n",
    "$$\\min_u \\|Ku - f\\|_2^2 + \\alpha\\|Lu\\|_2^2,$$\n",
    "\n",
    "can be re-written as\n",
    "\n",
    "$$\\min_u \\left\\|\\left(\\begin{matrix}K \\\\ \\sqrt{\\alpha} L\\end{matrix}\\right)u - \\left(\\begin{matrix}f\\\\0\\end{matrix}\\right)\\right\\|_2^2.$$\n"
   ]
  },
  {
   "cell_type": "code",
   "execution_count": 9,
   "metadata": {
    "slideshow": {
     "slide_type": "subslide"
    }
   },
   "outputs": [],
   "source": [
    "L = pylops.basicoperators.Laplacian((n,n))\n",
    "A = lambda alpha : pylops.VStack((K,np.sqrt(alpha)*L))\n",
    "b = np.concatenate((f,np.zeros(n**2)))\n",
    "\n",
    "uh = lambda alpha : lsqr(A(alpha),b)[0]"
   ]
  },
  {
   "cell_type": "code",
   "execution_count": 10,
   "metadata": {
    "slideshow": {
     "slide_type": "subslide"
    }
   },
   "outputs": [
    {
     "data": {
      "image/png": "[encoded data removed]",
      "text/plain": [
       "<Figure size 432x288 with 3 Axes>"
      ]
     },
     "metadata": {
      "needs_background": "light"
     },
     "output_type": "display_data"
    }
   ],
   "source": [
    "fig, ax = plt.subplots(1,3)\n",
    "\n",
    "ax[0].imshow(u.reshape((n,n)))\n",
    "ax[1].imshow(f.reshape((n,n)))\n",
    "ax[2].imshow(uh(1e-6).reshape((n,n)))\n",
    "\n",
    "plt.tight_layout()"
   ]
  },
  {
   "cell_type": "markdown",
   "metadata": {
    "slideshow": {
     "slide_type": "subslide"
    }
   },
   "source": [
    "## Sparse deconvolution\n",
    "\n",
    "Look for a solution that is sparse in a wavelet basis\n",
    "\n",
    "$$\\min_{v} \\|KWv - f\\|_2^2 + \\alpha \\|v\\|_1.$$"
   ]
  },
  {
   "cell_type": "code",
   "execution_count": 11,
   "metadata": {
    "slideshow": {
     "slide_type": "subslide"
    }
   },
   "outputs": [],
   "source": [
    "W = pylops.signalprocessing.DWT2D((n, n), wavelet=\"haar\", level=5)\n",
    "\n",
    "uh = lambda alpha :  W.H*pylops.optimization.sparsity.FISTA(K*W.H, f, 5000, alpha)[0]"
   ]
  },
  {
   "cell_type": "code",
   "execution_count": 16,
   "metadata": {
    "slideshow": {
     "slide_type": "subslide"
    }
   },
   "outputs": [
    {
     "data": {
      "image/png": "[encoded data removed]",
      "text/plain": [
       "<Figure size 432x288 with 3 Axes>"
      ]
     },
     "metadata": {
      "needs_background": "light"
     },
     "output_type": "display_data"
    }
   ],
   "source": [
    "fig, ax = plt.subplots(1,3)\n",
    "\n",
    "ax[0].imshow(u.reshape((n,n)))\n",
    "ax[1].imshow(f.reshape((n,n)))\n",
    "ax[2].imshow(uh(1e-6).reshape((n,n)))\n",
    "\n",
    "plt.tight_layout()"
   ]
  },
  {
   "cell_type": "markdown",
   "metadata": {
    "slideshow": {
     "slide_type": "slide"
    }
   },
   "source": [
    "# Exercise\n",
    "\n",
    "* Install PyPlot on Google Colab using `!pip install pylops`\n",
    "* Make a bias-variance plot for the deconvolution example\n",
    "* Think how your own inverse problem could be cast in this framework"
   ]
  }
 ],
 "metadata": {
  "celltoolbar": "Slideshow",
  "kernelspec": {
   "display_name": "Python 3",
   "language": "python",
   "name": "python3"
  },
  "language_info": {
   "codemirror_mode": {
    "name": "ipython",
    "version": 3
   },
   "file_extension": ".py",
   "mimetype": "text/x-python",
   "name": "python",
   "nbconvert_exporter": "python",
   "pygments_lexer": "ipython3",
   "version": "3.8.5"
  }
 },
 "nbformat": 4,
 "nbformat_minor": 4
}
