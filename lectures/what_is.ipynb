{
 "cells": [
  {
   "cell_type": "markdown",
   "metadata": {
    "slideshow": {
     "slide_type": "slide"
    }
   },
   "source": [
    "# What is an inverse problem?"
   ]
  },
  {
   "cell_type": "markdown",
   "metadata": {
    "slideshow": {
     "slide_type": "subslide"
    }
   },
   "source": [
    "![](https://tristanvanleeuwen.github.io/IP_and_Im_Lectures/_images/blackhole.png)"
   ]
  },
  {
   "cell_type": "markdown",
   "metadata": {
    "slideshow": {
     "slide_type": "slide"
    }
   },
   "source": [
    "# Overview\n",
    "\n",
    "* Applications\n",
    "* Abstract notions\n",
    "* The rest of today"
   ]
  },
  {
   "cell_type": "markdown",
   "metadata": {
    "slideshow": {
     "slide_type": "slide"
    }
   },
   "source": [
    "# Applications"
   ]
  },
  {
   "cell_type": "markdown",
   "metadata": {
    "slideshow": {
     "slide_type": "subslide"
    }
   },
   "source": [
    "## Medical imaging"
   ]
  },
  {
   "cell_type": "markdown",
   "metadata": {
    "slideshow": {
     "slide_type": "subslide"
    }
   },
   "source": [
    "## Remote sensing"
   ]
  },
  {
   "cell_type": "markdown",
   "metadata": {
    "slideshow": {
     "slide_type": "subslide"
    }
   },
   "source": [
    "## Parameter estimation"
   ]
  },
  {
   "cell_type": "markdown",
   "metadata": {
    "slideshow": {
     "slide_type": "slide"
    }
   },
   "source": [
    "# Abstract notions"
   ]
  },
  {
   "cell_type": "markdown",
   "metadata": {
    "slideshow": {
     "slide_type": "subslide"
    }
   },
   "source": [
    "## Main ingredients\n",
    "\n",
    "* The *forward operator* $K$ models the underlying (physical) relations between the *measurements* $f \\in \\mathcal{F}$ and the image / parameters $u\\in\\mathcal{U}$.\n",
    "\n",
    "* The spaces are equiped with a norm $\\|\\cdot\\|$ and in many cases an inner product $\\langle \\cdot, \\cdot\\rangle$.\n",
    "\n",
    "* The inverse problem is for a given $f \\in \\mathcal{F}$ to find a $u \\in \\mathcal{U}$ such that $Ku = f$."
   ]
  },
  {
   "cell_type": "markdown",
   "metadata": {
    "slideshow": {
     "slide_type": "subslide"
    }
   },
   "source": [
    "## Well-posedness \n",
    "\n",
    "An inverse problem is *well-posed* if\n",
    "\n",
    "* A solution exists; \n",
    "* The solution is unique;\n",
    "* The solution depends continuously on the data, i.e. for $Ku = f$ and $Kv = g$ there exists a $C < \\infty$ such that\n",
    "$$\\|u - v\\| \\leq C \\|f - g\\|.$$"
   ]
  },
  {
   "cell_type": "markdown",
   "metadata": {
    "slideshow": {
     "slide_type": "subslide"
    }
   },
   "source": [
    "## Example (root finding)\n",
    "\n",
    "Given a function $k : \\mathbb{R} \\rightarrow \\mathbb{R}$, and $f \\in \\mathbb{R}$, find a root $u$ such that $k(u) = f$.\n",
    "\n",
    "* $k(u) = u^2$\n",
    "* $k(u) = u^{20}$"
   ]
  },
  {
   "cell_type": "markdown",
   "metadata": {
    "slideshow": {
     "slide_type": "subslide"
    }
   },
   "source": [
    "## Example (differentiation)\n",
    "\n",
    "Given\n",
    "\n",
    "$$Ku(x) = \\int_0^x u(y)\\mathrm{d}y,$$\n",
    "\n"
   ]
  },
  {
   "cell_type": "markdown",
   "metadata": {
    "slideshow": {
     "slide_type": "slide"
    }
   },
   "source": [
    "# Program for the rest of the day"
   ]
  },
  {
   "cell_type": "markdown",
   "metadata": {
    "slideshow": {
     "slide_type": "subslide"
    }
   },
   "source": [
    "* Detailed analysis of finite-dimensional linear inverse problems\n",
    "* A Bayesian viewpoint\n",
    "* Variational formulations\n",
    "* Uncertainty quantification\n",
    "\n",
    "Throughout, we will frequently work on examples in Python and learn about some (hopefully) usefull tools."
   ]
  },
  {
   "cell_type": "code",
   "execution_count": null,
   "metadata": {},
   "outputs": [],
   "source": []
  }
 ],
 "metadata": {
  "celltoolbar": "Slideshow",
  "kernelspec": {
   "display_name": "Python 3",
   "language": "python",
   "name": "python3"
  },
  "language_info": {
   "codemirror_mode": {
    "name": "ipython",
    "version": 3
   },
   "file_extension": ".py",
   "mimetype": "text/x-python",
   "name": "python",
   "nbconvert_exporter": "python",
   "pygments_lexer": "ipython3",
   "version": "3.8.5"
  }
 },
 "nbformat": 4,
 "nbformat_minor": 4
}
